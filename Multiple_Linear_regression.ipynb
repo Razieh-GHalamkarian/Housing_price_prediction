{
 "cells": [
  {
   "cell_type": "code",
   "execution_count": 2,
   "id": "5b2cc1f3",
   "metadata": {},
   "outputs": [],
   "source": [
    "import pandas as pd\n",
    "import numpy as np\n",
    "import matplotlib.pyplot as plt\n",
    "import seaborn as sns\n",
    "from sklearn.preprocessing import LabelEncoder"
   ]
  },
  {
   "cell_type": "code",
   "execution_count": 3,
   "id": "5f521670",
   "metadata": {},
   "outputs": [],
   "source": [
    "data3=pd.read_csv(r'C:\\Users\\kowsar\\tmis.csv')"
   ]
  },
  {
   "cell_type": "code",
   "execution_count": 4,
   "id": "ca0171e2",
   "metadata": {},
   "outputs": [
    {
     "data": {
      "text/html": [
       "<div>\n",
       "<style scoped>\n",
       "    .dataframe tbody tr th:only-of-type {\n",
       "        vertical-align: middle;\n",
       "    }\n",
       "\n",
       "    .dataframe tbody tr th {\n",
       "        vertical-align: top;\n",
       "    }\n",
       "\n",
       "    .dataframe thead th {\n",
       "        text-align: right;\n",
       "    }\n",
       "</style>\n",
       "<table border=\"1\" class=\"dataframe\">\n",
       "  <thead>\n",
       "    <tr style=\"text-align: right;\">\n",
       "      <th></th>\n",
       "      <th>Area</th>\n",
       "      <th>Room</th>\n",
       "      <th>Parking</th>\n",
       "      <th>Warehouse</th>\n",
       "      <th>Elevator</th>\n",
       "      <th>Address</th>\n",
       "      <th>Price</th>\n",
       "      <th>Price(USD)</th>\n",
       "    </tr>\n",
       "  </thead>\n",
       "  <tbody>\n",
       "    <tr>\n",
       "      <th>0</th>\n",
       "      <td>63.0</td>\n",
       "      <td>1</td>\n",
       "      <td>True</td>\n",
       "      <td>True</td>\n",
       "      <td>True</td>\n",
       "      <td>Shahran</td>\n",
       "      <td>1850000000</td>\n",
       "      <td>61666.67</td>\n",
       "    </tr>\n",
       "    <tr>\n",
       "      <th>1</th>\n",
       "      <td>60.0</td>\n",
       "      <td>1</td>\n",
       "      <td>True</td>\n",
       "      <td>True</td>\n",
       "      <td>True</td>\n",
       "      <td>Shahran</td>\n",
       "      <td>1850000000</td>\n",
       "      <td>61666.67</td>\n",
       "    </tr>\n",
       "    <tr>\n",
       "      <th>2</th>\n",
       "      <td>79.0</td>\n",
       "      <td>2</td>\n",
       "      <td>True</td>\n",
       "      <td>True</td>\n",
       "      <td>True</td>\n",
       "      <td>Pardis</td>\n",
       "      <td>550000000</td>\n",
       "      <td>18333.33</td>\n",
       "    </tr>\n",
       "    <tr>\n",
       "      <th>3</th>\n",
       "      <td>95.0</td>\n",
       "      <td>2</td>\n",
       "      <td>True</td>\n",
       "      <td>True</td>\n",
       "      <td>True</td>\n",
       "      <td>Shahrake Qods</td>\n",
       "      <td>902500000</td>\n",
       "      <td>30083.33</td>\n",
       "    </tr>\n",
       "    <tr>\n",
       "      <th>4</th>\n",
       "      <td>123.0</td>\n",
       "      <td>2</td>\n",
       "      <td>True</td>\n",
       "      <td>True</td>\n",
       "      <td>True</td>\n",
       "      <td>Shahrake Gharb</td>\n",
       "      <td>7000000000</td>\n",
       "      <td>233333.33</td>\n",
       "    </tr>\n",
       "  </tbody>\n",
       "</table>\n",
       "</div>"
      ],
      "text/plain": [
       "    Area  Room  Parking  Warehouse  Elevator         Address       Price  \\\n",
       "0   63.0     1     True       True      True         Shahran  1850000000   \n",
       "1   60.0     1     True       True      True         Shahran  1850000000   \n",
       "2   79.0     2     True       True      True          Pardis   550000000   \n",
       "3   95.0     2     True       True      True   Shahrake Qods   902500000   \n",
       "4  123.0     2     True       True      True  Shahrake Gharb  7000000000   \n",
       "\n",
       "   Price(USD)  \n",
       "0    61666.67  \n",
       "1    61666.67  \n",
       "2    18333.33  \n",
       "3    30083.33  \n",
       "4   233333.33  "
      ]
     },
     "execution_count": 4,
     "metadata": {},
     "output_type": "execute_result"
    }
   ],
   "source": [
    "h=data3.head()\n",
    "h"
   ]
  },
  {
   "cell_type": "code",
   "execution_count": 28,
   "id": "b803da0c",
   "metadata": {},
   "outputs": [],
   "source": [
    "xo=data3['Parking']\n",
    "le = LabelEncoder()\n",
    "encoded_data = le.fit_transform(xo)\n",
    "data3['Parking'] = encoded_data"
   ]
  },
  {
   "cell_type": "code",
   "execution_count": 29,
   "id": "bb149fda",
   "metadata": {},
   "outputs": [],
   "source": [
    "xo=data3['Elevator']\n",
    "le = LabelEncoder()\n",
    "encoded_data1= le.fit_transform(xo)\n",
    "data3['Elevator'] = encoded_data1"
   ]
  },
  {
   "cell_type": "code",
   "execution_count": 30,
   "id": "feee4b25",
   "metadata": {},
   "outputs": [],
   "source": [
    "xo=data3['Warehouse']\n",
    "le = LabelEncoder()\n",
    "encoded_data2 = le.fit_transform(xo)\n",
    "data3['Warehouse'] = encoded_data2"
   ]
  },
  {
   "cell_type": "code",
   "execution_count": 31,
   "id": "05bb56c9",
   "metadata": {},
   "outputs": [
    {
     "data": {
      "text/html": [
       "<div>\n",
       "<style scoped>\n",
       "    .dataframe tbody tr th:only-of-type {\n",
       "        vertical-align: middle;\n",
       "    }\n",
       "\n",
       "    .dataframe tbody tr th {\n",
       "        vertical-align: top;\n",
       "    }\n",
       "\n",
       "    .dataframe thead th {\n",
       "        text-align: right;\n",
       "    }\n",
       "</style>\n",
       "<table border=\"1\" class=\"dataframe\">\n",
       "  <thead>\n",
       "    <tr style=\"text-align: right;\">\n",
       "      <th></th>\n",
       "      <th>Area</th>\n",
       "      <th>Room</th>\n",
       "      <th>Parking</th>\n",
       "      <th>Warehouse</th>\n",
       "      <th>Elevator</th>\n",
       "      <th>Address</th>\n",
       "      <th>Price</th>\n",
       "      <th>Price(USD)</th>\n",
       "    </tr>\n",
       "  </thead>\n",
       "  <tbody>\n",
       "    <tr>\n",
       "      <th>3326</th>\n",
       "      <td>86.0</td>\n",
       "      <td>2</td>\n",
       "      <td>1</td>\n",
       "      <td>1</td>\n",
       "      <td>1</td>\n",
       "      <td>Southern Janatabad</td>\n",
       "      <td>3500000000</td>\n",
       "      <td>116666.67</td>\n",
       "    </tr>\n",
       "    <tr>\n",
       "      <th>3327</th>\n",
       "      <td>83.0</td>\n",
       "      <td>2</td>\n",
       "      <td>1</td>\n",
       "      <td>1</td>\n",
       "      <td>1</td>\n",
       "      <td>Niavaran</td>\n",
       "      <td>6800000000</td>\n",
       "      <td>226666.67</td>\n",
       "    </tr>\n",
       "    <tr>\n",
       "      <th>3328</th>\n",
       "      <td>75.0</td>\n",
       "      <td>2</td>\n",
       "      <td>0</td>\n",
       "      <td>0</td>\n",
       "      <td>0</td>\n",
       "      <td>Parand</td>\n",
       "      <td>365000000</td>\n",
       "      <td>12166.67</td>\n",
       "    </tr>\n",
       "    <tr>\n",
       "      <th>3329</th>\n",
       "      <td>105.0</td>\n",
       "      <td>2</td>\n",
       "      <td>1</td>\n",
       "      <td>1</td>\n",
       "      <td>1</td>\n",
       "      <td>Dorous</td>\n",
       "      <td>5600000000</td>\n",
       "      <td>186666.67</td>\n",
       "    </tr>\n",
       "    <tr>\n",
       "      <th>3330</th>\n",
       "      <td>82.0</td>\n",
       "      <td>2</td>\n",
       "      <td>0</td>\n",
       "      <td>1</td>\n",
       "      <td>1</td>\n",
       "      <td>Parand</td>\n",
       "      <td>360000000</td>\n",
       "      <td>12000.00</td>\n",
       "    </tr>\n",
       "  </tbody>\n",
       "</table>\n",
       "</div>"
      ],
      "text/plain": [
       "       Area  Room  Parking  Warehouse  Elevator             Address  \\\n",
       "3326   86.0     2        1          1         1  Southern Janatabad   \n",
       "3327   83.0     2        1          1         1            Niavaran   \n",
       "3328   75.0     2        0          0         0              Parand   \n",
       "3329  105.0     2        1          1         1              Dorous   \n",
       "3330   82.0     2        0          1         1              Parand   \n",
       "\n",
       "           Price  Price(USD)  \n",
       "3326  3500000000   116666.67  \n",
       "3327  6800000000   226666.67  \n",
       "3328   365000000    12166.67  \n",
       "3329  5600000000   186666.67  \n",
       "3330   360000000    12000.00  "
      ]
     },
     "execution_count": 31,
     "metadata": {},
     "output_type": "execute_result"
    }
   ],
   "source": [
    "h=data3.tail()\n",
    "h"
   ]
  },
  {
   "cell_type": "code",
   "execution_count": 32,
   "id": "082662fa",
   "metadata": {},
   "outputs": [
    {
     "data": {
      "text/html": [
       "<div>\n",
       "<style scoped>\n",
       "    .dataframe tbody tr th:only-of-type {\n",
       "        vertical-align: middle;\n",
       "    }\n",
       "\n",
       "    .dataframe tbody tr th {\n",
       "        vertical-align: top;\n",
       "    }\n",
       "\n",
       "    .dataframe thead th {\n",
       "        text-align: right;\n",
       "    }\n",
       "</style>\n",
       "<table border=\"1\" class=\"dataframe\">\n",
       "  <thead>\n",
       "    <tr style=\"text-align: right;\">\n",
       "      <th></th>\n",
       "      <th>Area</th>\n",
       "      <th>Price</th>\n",
       "      <th>Room</th>\n",
       "      <th>Parking</th>\n",
       "      <th>Elevator</th>\n",
       "      <th>Warehouse</th>\n",
       "    </tr>\n",
       "  </thead>\n",
       "  <tbody>\n",
       "    <tr>\n",
       "      <th>0</th>\n",
       "      <td>63.0</td>\n",
       "      <td>1850000000</td>\n",
       "      <td>1</td>\n",
       "      <td>1</td>\n",
       "      <td>1</td>\n",
       "      <td>1</td>\n",
       "    </tr>\n",
       "    <tr>\n",
       "      <th>1</th>\n",
       "      <td>60.0</td>\n",
       "      <td>1850000000</td>\n",
       "      <td>1</td>\n",
       "      <td>1</td>\n",
       "      <td>1</td>\n",
       "      <td>1</td>\n",
       "    </tr>\n",
       "    <tr>\n",
       "      <th>2</th>\n",
       "      <td>79.0</td>\n",
       "      <td>550000000</td>\n",
       "      <td>2</td>\n",
       "      <td>1</td>\n",
       "      <td>1</td>\n",
       "      <td>1</td>\n",
       "    </tr>\n",
       "    <tr>\n",
       "      <th>3</th>\n",
       "      <td>95.0</td>\n",
       "      <td>902500000</td>\n",
       "      <td>2</td>\n",
       "      <td>1</td>\n",
       "      <td>1</td>\n",
       "      <td>1</td>\n",
       "    </tr>\n",
       "    <tr>\n",
       "      <th>4</th>\n",
       "      <td>123.0</td>\n",
       "      <td>7000000000</td>\n",
       "      <td>2</td>\n",
       "      <td>1</td>\n",
       "      <td>1</td>\n",
       "      <td>1</td>\n",
       "    </tr>\n",
       "    <tr>\n",
       "      <th>...</th>\n",
       "      <td>...</td>\n",
       "      <td>...</td>\n",
       "      <td>...</td>\n",
       "      <td>...</td>\n",
       "      <td>...</td>\n",
       "      <td>...</td>\n",
       "    </tr>\n",
       "    <tr>\n",
       "      <th>3326</th>\n",
       "      <td>86.0</td>\n",
       "      <td>3500000000</td>\n",
       "      <td>2</td>\n",
       "      <td>1</td>\n",
       "      <td>1</td>\n",
       "      <td>1</td>\n",
       "    </tr>\n",
       "    <tr>\n",
       "      <th>3327</th>\n",
       "      <td>83.0</td>\n",
       "      <td>6800000000</td>\n",
       "      <td>2</td>\n",
       "      <td>1</td>\n",
       "      <td>1</td>\n",
       "      <td>1</td>\n",
       "    </tr>\n",
       "    <tr>\n",
       "      <th>3328</th>\n",
       "      <td>75.0</td>\n",
       "      <td>365000000</td>\n",
       "      <td>2</td>\n",
       "      <td>0</td>\n",
       "      <td>0</td>\n",
       "      <td>0</td>\n",
       "    </tr>\n",
       "    <tr>\n",
       "      <th>3329</th>\n",
       "      <td>105.0</td>\n",
       "      <td>5600000000</td>\n",
       "      <td>2</td>\n",
       "      <td>1</td>\n",
       "      <td>1</td>\n",
       "      <td>1</td>\n",
       "    </tr>\n",
       "    <tr>\n",
       "      <th>3330</th>\n",
       "      <td>82.0</td>\n",
       "      <td>360000000</td>\n",
       "      <td>2</td>\n",
       "      <td>0</td>\n",
       "      <td>1</td>\n",
       "      <td>1</td>\n",
       "    </tr>\n",
       "  </tbody>\n",
       "</table>\n",
       "<p>3331 rows × 6 columns</p>\n",
       "</div>"
      ],
      "text/plain": [
       "       Area       Price  Room  Parking  Elevator  Warehouse\n",
       "0      63.0  1850000000     1        1         1          1\n",
       "1      60.0  1850000000     1        1         1          1\n",
       "2      79.0   550000000     2        1         1          1\n",
       "3      95.0   902500000     2        1         1          1\n",
       "4     123.0  7000000000     2        1         1          1\n",
       "...     ...         ...   ...      ...       ...        ...\n",
       "3326   86.0  3500000000     2        1         1          1\n",
       "3327   83.0  6800000000     2        1         1          1\n",
       "3328   75.0   365000000     2        0         0          0\n",
       "3329  105.0  5600000000     2        1         1          1\n",
       "3330   82.0   360000000     2        0         1          1\n",
       "\n",
       "[3331 rows x 6 columns]"
      ]
     },
     "execution_count": 32,
     "metadata": {},
     "output_type": "execute_result"
    }
   ],
   "source": [
    "df=pd.DataFrame(data3, columns=['Area', 'Price', 'Room', 'Parking', 'Elevator', 'Warehouse'])\n",
    "df"
   ]
  },
  {
   "cell_type": "code",
   "execution_count": 33,
   "id": "ecf3e104",
   "metadata": {},
   "outputs": [
    {
     "data": {
      "text/plain": [
       "Text(0, 0.5, 'Price')"
      ]
     },
     "execution_count": 33,
     "metadata": {},
     "output_type": "execute_result"
    },
    {
     "data": {
      "image/png": "[encoded data removed]",
      "text/plain": [
       "<Figure size 640x480 with 1 Axes>"
      ]
     },
     "metadata": {},
     "output_type": "display_data"
    }
   ],
   "source": [
    "scatter=plt.scatter(df['Area'], df['Price'])\n",
    "plt.xlabel('Area')\n",
    "plt.ylabel('Price')"
   ]
  },
  {
   "cell_type": "code",
   "execution_count": 34,
   "id": "cdd7925d",
   "metadata": {},
   "outputs": [
    {
     "name": "stdout",
     "output_type": "stream",
     "text": [
      "[ True False  True ...  True  True  True]\n",
      "       Area       Price  Room  Parking  Elevator  Warehouse\n",
      "0      63.0  1850000000     1        1         1          1\n",
      "2      79.0   550000000     2        1         1          1\n",
      "3      95.0   902500000     2        1         1          1\n",
      "4     123.0  7000000000     2        1         1          1\n",
      "5      70.0  2050000000     2        1         0          1\n",
      "...     ...         ...   ...      ...       ...        ...\n",
      "3326   86.0  3500000000     2        1         1          1\n",
      "3327   83.0  6800000000     2        1         1          1\n",
      "3328   75.0   365000000     2        0         0          0\n",
      "3329  105.0  5600000000     2        1         1          1\n",
      "3330   82.0   360000000     2        0         1          1\n",
      "\n",
      "[2682 rows x 6 columns]\n",
      "       Area        Price  Room  Parking  Elevator  Warehouse\n",
      "1      60.0   1850000000     1        1         1          1\n",
      "11     64.0   2100000000     1        1         1          1\n",
      "12     54.0   1690000000     1        0         1          1\n",
      "14     95.0   5000000000     2        1         1          1\n",
      "17     64.0   1450000000     2        0         0          1\n",
      "...     ...          ...   ...      ...       ...        ...\n",
      "3276   37.0   1180000000     1        1         1          1\n",
      "3278   76.0   2850000000     2        1         1          1\n",
      "3290  186.0  15000000000     3        1         1          1\n",
      "3291  140.0   8400000000     3        1         1          1\n",
      "3321   74.0   4070000000     2        1         1          1\n",
      "\n",
      "[649 rows x 6 columns]\n"
     ]
    }
   ],
   "source": [
    "msk=np.random.rand(len(df))< 0.8\n",
    "train=df[msk]\n",
    "test=df[~msk]\n",
    "print(msk)\n",
    "print(train)\n",
    "print(test)"
   ]
  },
  {
   "cell_type": "code",
   "execution_count": 35,
   "id": "91de2720",
   "metadata": {
    "scrolled": true
   },
   "outputs": [
    {
     "name": "stdout",
     "output_type": "stream",
     "text": [
      "coefficent [[ 9.55323755e+07 -9.19371207e+08  4.75350800e+08  4.20145322e+08\n",
      "   3.87590402e+08]]\n",
      "intercept [-4.24180566e+09]\n"
     ]
    }
   ],
   "source": [
    "from sklearn import linear_model\n",
    "reg=linear_model.LinearRegression()\n",
    "train_x=np.asanyarray(train[['Area', 'Room', 'Elevator', 'Parking', 'Warehouse']])\n",
    "train_y=np.asanyarray(train[['Price']])\n",
    "reg.fit(train_x, train_y)\n",
    "coefficent=reg.coef_\n",
    "intercept=reg.intercept_\n",
    "print('coefficent', coefficent)\n",
    "print('intercept',intercept)"
   ]
  },
  {
   "cell_type": "code",
   "execution_count": 36,
   "id": "a2affe86",
   "metadata": {},
   "outputs": [
    {
     "name": "stdout",
     "output_type": "stream",
     "text": [
      "MSE 6.080842239108199e+18\n",
      "variance score 0.6831448430520382\n",
      "0.6831448430520382\n"
     ]
    }
   ],
   "source": [
    "from sklearn.metrics import r2_score\n",
    "y_hat=reg.predict(np.asanyarray(test[['Area', 'Room', 'Elevator', 'Parking', 'Warehouse']]))\n",
    "xo=np.asanyarray(test[['Area', 'Room', 'Elevator', 'Parking', 'Warehouse']])\n",
    "y=np.asanyarray(test[['Price']])\n",
    "MSE=np.mean((y_hat - y)**2)\n",
    "print('MSE',MSE)\n",
    "print('variance score',reg.score(xo,y))\n",
    "r2=r2_score(y, y_hat)\n",
    "print(r2)"
   ]
  },
  {
   "cell_type": "code",
   "execution_count": 37,
   "id": "6bc88069",
   "metadata": {},
   "outputs": [
    {
     "data": {
      "text/plain": [
       "array([[9.0734914e+10]])"
      ]
     },
     "execution_count": 37,
     "metadata": {},
     "output_type": "execute_result"
    }
   ],
   "source": [
    "house_price=reg.predict([[1000, 2, 1, 1, 1]])\n",
    "house_price"
   ]
  },
  {
   "cell_type": "code",
   "execution_count": null,
   "id": "288afa58",
   "metadata": {},
   "outputs": [],
   "source": []
  }
 ],
 "metadata": {
  "kernelspec": {
   "display_name": "Python 3 (ipykernel)",
   "language": "python",
   "name": "python3"
  },
  "language_info": {
   "codemirror_mode": {
    "name": "ipython",
    "version": 3
   },
   "file_extension": ".py",
   "mimetype": "text/x-python",
   "name": "python",
   "nbconvert_exporter": "python",
   "pygments_lexer": "ipython3",
   "version": "3.11.5"
  }
 },
 "nbformat": 4,
 "nbformat_minor": 5
}
